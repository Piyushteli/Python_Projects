{
 "cells": [
  {
   "cell_type": "markdown",
   "id": "5cd45827",
   "metadata": {},
   "source": [
    "# \"Student Grade System\""
   ]
  },
  {
   "cell_type": "code",
   "execution_count": 1,
   "id": "e2a0d399",
   "metadata": {},
   "outputs": [
    {
     "name": "stdout",
     "output_type": "stream",
     "text": [
      "Enter the Marks: 80\n",
      "Grade C \n"
     ]
    }
   ],
   "source": [
    "Marks=int(input(\"Enter the Marks: \"))\n",
    "if (Marks>90 and Marks<=100):\n",
    "    print(\"Grade A\")\n",
    "elif(Marks>80 and Marks<=90):\n",
    "    print(\"Grade B\")\n",
    "elif (Marks>70 and Marks<=80):\n",
    "    print(\"Grade C \")\n",
    "elif(Marks>60 and Marks<=70):\n",
    "    print(\"Grade D\")\n",
    "elif(Marks>50 and Marks<=60):\n",
    "    print(\"Grade E1\")\n",
    "elif(Marks>40 and Marks<=50):\n",
    "    print(\"Grade E2\")\n",
    "elif (Marks<=40):\n",
    "    print(\"Fail\")\n",
    "else:\n",
    "    print(\"Invalid Input..\")"
   ]
  },
  {
   "cell_type": "markdown",
   "id": "fecf87ff",
   "metadata": {},
   "source": [
    "# Here are the steps for the Student Grade System"
   ]
  },
  {
   "cell_type": "markdown",
   "id": "0dc0932e",
   "metadata": {},
   "source": [
    "1)Input Marks: Ask the user to input the marks they obtained.\n",
    "\n",
    "2)Conditional Logic:\n",
    "\n",
    "Use if, elif, and else statements to categorize the marks into grades:\n",
    "\n",
    ">90 and <=100: Grade A\n",
    "\n",
    ">80 and <=90: Grade B\n",
    "\n",
    ">70 and <=80: Grade C\n",
    "\n",
    ">60 and <=70: Grade D\n",
    "\n",
    ">50 and <=60: Grade E1\n",
    "\n",
    ">40 and <=50: Grade E2\n",
    "\n",
    "<=40: Fail\n",
    "\n",
    "3)Output: Display the grade or \"Fail\" based on the marks entered.\n",
    "\n",
    "4)Error Handling: If the input is not a valid mark (e.g., outside the 0-100 range), show an \"Invalid Input\" message."
   ]
  },
  {
   "cell_type": "code",
   "execution_count": null,
   "id": "300d53f5",
   "metadata": {},
   "outputs": [],
   "source": []
  }
 ],
 "metadata": {
  "kernelspec": {
   "display_name": "Python 3 (ipykernel)",
   "language": "python",
   "name": "python3"
  },
  "language_info": {
   "codemirror_mode": {
    "name": "ipython",
    "version": 3
   },
   "file_extension": ".py",
   "mimetype": "text/x-python",
   "name": "python",
   "nbconvert_exporter": "python",
   "pygments_lexer": "ipython3",
   "version": "3.11.4"
  }
 },
 "nbformat": 4,
 "nbformat_minor": 5
}
