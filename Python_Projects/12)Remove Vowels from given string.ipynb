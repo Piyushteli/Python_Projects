{
 "cells": [
  {
   "cell_type": "markdown",
   "id": "ebb2b343",
   "metadata": {},
   "source": [
    "# \"Remove Vowels from given string\""
   ]
  },
  {
   "cell_type": "code",
   "execution_count": 1,
   "id": "6dbd8841",
   "metadata": {},
   "outputs": [
    {
     "name": "stdout",
     "output_type": "stream",
     "text": [
      "Hll, Wrld!\n"
     ]
    }
   ],
   "source": [
    "def remove_vowels(string):\n",
    "    vowels = ['a', 'e', 'i', 'o', 'u', 'A', 'E', 'I', 'O', 'U']\n",
    "    result = \"\"\n",
    "    for char in string:\n",
    "        if char not in vowels:\n",
    "            result += char\n",
    "    return result\n",
    "\n",
    "# Example usage\n",
    "input_string = \"Hello, World!\"\n",
    "output_string = remove_vowels(input_string)\n",
    "print(output_string)  # Output: \"Hll, Wrld!\""
   ]
  },
  {
   "cell_type": "markdown",
   "id": "df0cbc15",
   "metadata": {},
   "source": [
    "# Here are the  steps for Remove Vowels from given string"
   ]
  },
  {
   "cell_type": "markdown",
   "id": "38be603a",
   "metadata": {},
   "source": [
    "1)Function Definition:\n",
    "\n",
    "The remove_vowels() function is defined to take a string as input.\n",
    "\n",
    "2)Vowels List:\n",
    "\n",
    "The list vowels contains all the vowels in both uppercase and lowercase ('a', 'e', 'i', 'o', 'u' and their uppercase counterparts).\n",
    "\n",
    "3)Result String:\n",
    "\n",
    "The result variable is initialized as an empty string. This will hold the new string after vowels have been removed.\n",
    "\n",
    "4)For Loop:\n",
    "\n",
    "The for loop iterates through each character (char) in the input string (string).\n",
    "\n",
    "5)Check if Character is a Vowel:\n",
    "\n",
    "Inside the loop, the if statement checks whether the current character (char) is not a vowel by verifying if it is not in the vowels list.\n",
    "\n",
    "6)Build the New String:\n",
    "\n",
    "If the character is not a vowel, it is added to the result string.\n",
    "\n",
    "7)Return the Result:\n",
    "\n",
    "After processing all characters in the input string, the result string (with vowels removed) is returned."
   ]
  }
 ],
 "metadata": {
  "kernelspec": {
   "display_name": "Python 3 (ipykernel)",
   "language": "python",
   "name": "python3"
  },
  "language_info": {
   "codemirror_mode": {
    "name": "ipython",
    "version": 3
   },
   "file_extension": ".py",
   "mimetype": "text/x-python",
   "name": "python",
   "nbconvert_exporter": "python",
   "pygments_lexer": "ipython3",
   "version": "3.11.4"
  }
 },
 "nbformat": 4,
 "nbformat_minor": 5
}
