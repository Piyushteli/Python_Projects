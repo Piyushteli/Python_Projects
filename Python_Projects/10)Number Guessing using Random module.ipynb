{
 "cells": [
  {
   "cell_type": "markdown",
   "id": "a66fecbb",
   "metadata": {},
   "source": [
    "# \"Number Guessing using Random module.\""
   ]
  },
  {
   "cell_type": "code",
   "execution_count": 1,
   "id": "d9a82bda",
   "metadata": {},
   "outputs": [
    {
     "name": "stdout",
     "output_type": "stream",
     "text": [
      "Enter your Number: 60\n",
      "Computer Guess Number: 78\n",
      "your guess Number is too low\n"
     ]
    }
   ],
   "source": [
    "import random\n",
    "Cnumber=random.randrange(1,101)\n",
    "user_input=int(input(\"Enter your Number: \"))\n",
    "\n",
    "if user_input > Cnumber:\n",
    "    print(\"Computer Guess Number:\", Cnumber)\n",
    "    print(\"your guess Number is too high\")\n",
    "elif Cnumber > user_input:\n",
    "    print(\"Computer Guess Number:\",Cnumber)\n",
    "    print(\"your guess Number is too low\")\n",
    "else:\n",
    "    print(\"Computer Guess Number:\",Cnumber)\n",
    "    print(\"your guess Number is equal....\")\n",
    "\n"
   ]
  },
  {
   "cell_type": "markdown",
   "id": "57eb7573",
   "metadata": {},
   "source": [
    "# Here are the  steps for Number Guessing using Random module."
   ]
  },
  {
   "cell_type": "markdown",
   "id": "1abb9c9e",
   "metadata": {},
   "source": [
    "1)Random Number Generation:\n",
    "    \n",
    "The computer generates a random number between 1 and 100 using random.randrange(1, 101).\n",
    "\n",
    "2)User Input:\n",
    "    \n",
    "The user is prompted to enter a guess, and this input is stored as user_input.\n",
    "\n",
    "3)Condition Checks:\n",
    "    \n",
    "The code checks:\n",
    "    \n",
    "If the user’s guess is higher than the computer’s number, it prints that the guess is too high.\n",
    "\n",
    "If the guess is lower, it tells the user the guess is too low.\n",
    "\n",
    "If the guess is equal, it tells the user that they’ve guessed correctly."
   ]
  },
  {
   "cell_type": "code",
   "execution_count": null,
   "id": "46cb39e7",
   "metadata": {},
   "outputs": [],
   "source": []
  }
 ],
 "metadata": {
  "kernelspec": {
   "display_name": "Python 3 (ipykernel)",
   "language": "python",
   "name": "python3"
  },
  "language_info": {
   "codemirror_mode": {
    "name": "ipython",
    "version": 3
   },
   "file_extension": ".py",
   "mimetype": "text/x-python",
   "name": "python",
   "nbconvert_exporter": "python",
   "pygments_lexer": "ipython3",
   "version": "3.11.4"
  }
 },
 "nbformat": 4,
 "nbformat_minor": 5
}
