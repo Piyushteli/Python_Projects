{
 "cells": [
  {
   "cell_type": "markdown",
   "id": "ebcee3df",
   "metadata": {},
   "source": [
    "# \"Task  Management  System\""
   ]
  },
  {
   "cell_type": "code",
   "execution_count": null,
   "id": "19ea29cb",
   "metadata": {},
   "outputs": [
    {
     "name": "stdout",
     "output_type": "stream",
     "text": [
      "________Welcome to Task Management System_________\n",
      "Enter how many tasks you want to add=3\n",
      "Enter the task 1=Read the Book\n",
      "Enter the task 2=Watch Movie\n",
      "Enter the task 3=Complete the Assignment\n",
      "Todays tasks are\n",
      "['Read the Book', 'Watch Movie', 'Complete the Assignment']\n",
      "1.Add\n",
      "2.Update\n",
      "3.Delete\n",
      "4.View\n",
      "5.Exit\n",
      "Enter the Number:4\n",
      "Total tasks=['Read the Book', 'Watch Movie', 'Complete the Assignment']\n"
     ]
    }
   ],
   "source": [
    "def task():\n",
    "    tasks=[]\n",
    "    print(\"________Welcome to Task Management System_________\")\n",
    "    total_task=int(input(\"Enter how many tasks you want to add=\"))\n",
    "    for i in range(1,total_task+1):\n",
    "        task_name=input(f\"Enter the task {i}=\")\n",
    "        tasks.append(task_name)\n",
    "    print(f\"Todays tasks are\\n{tasks}\")\n",
    "\n",
    "    while True:\n",
    "            try:\n",
    "                operation=int(input(\"1.Add\\n2.Update\\n3.Delete\\n4.View\\n5.Exit\\nEnter the Number:\"))\n",
    "\n",
    "                if operation==1:\n",
    "                    add=input(\"Enter task you want to add=\")\n",
    "                    tasks.append(add)\n",
    "                    print(f\"Task {add} has been Successfully added.\")\n",
    "\n",
    "                elif operation==2:\n",
    "                    update_task=input(\"Enter the task name you want to update=\")\n",
    "                    if update_task in tasks:\n",
    "                        new=input(\"Enter the New task=\")\n",
    "                        ind=tasks.index(update_task)\n",
    "                        tasks[ind]=new\n",
    "                        print(f\"Updated task '{update_task}' to '{new}'\")\n",
    "\n",
    "                    else:\n",
    "                        print(\"Task not found.\")\n",
    "\n",
    "                elif operation==3:\n",
    "                    del_task=input(\"Which task you want to delete=\")\n",
    "                    if del_task in tasks:\n",
    "                        ind=tasks.index(del_task)\n",
    "                        del tasks[ind]\n",
    "                        print(f\"Task '{del_task}' has been deleted..\")\n",
    "\n",
    "                    else:\n",
    "                        print(\"Task not found..\")\n",
    "\n",
    "                elif operation==4:\n",
    "                    print(f\"Total tasks={tasks}\")\n",
    "\n",
    "                elif operation==5:\n",
    "                    print(\"Closing the Program..\")\n",
    "                    break\n",
    "\n",
    "                else:\n",
    "                    print(\"Invalid Input\")\n",
    "\n",
    "            except ValueError:\n",
    "                print(\"Invalid Input. Please Enter a valid number.\")\n",
    "\n",
    "if __name__==\"__main__\":\n",
    "    task()\n",
    "\n",
    "\n",
    "\n",
    "\n"
   ]
  },
  {
   "cell_type": "markdown",
   "id": "da861979",
   "metadata": {},
   "source": [
    "# Code Breakdown:\n"
   ]
  },
  {
   "cell_type": "markdown",
   "id": "9b405075",
   "metadata": {},
   "source": [
    "1)Initial Task Setup:\n",
    "\n",
    "The program starts by welcoming the user and asking how many tasks they want to add.\n",
    "\n",
    "It takes input for each task and stores them in the tasks list.\n",
    "\n",
    "2)Main Menu Loop:\n",
    "\n",
    "The program continuously shows a menu with the following options:\n",
    "    \n",
    "1. Add Task: Adds a new task to the tasks list.\n",
    "    \n",
    "2. Update Task: Allows the user to update an existing task by entering its current name and providing a new one.\n",
    "    \n",
    "3. Delete Task: Deletes a task from the tasks list.\n",
    "    \n",
    "4. View Tasks: Displays all tasks.\n",
    "    \n",
    "5. Exit: Exits the program.\n",
    "    \n",
    "3)Error Handling:\n",
    "\n",
    "If the user enters an invalid option or a task doesn't exist when trying to update or delete, the system prompts them with an appropriate message.\n",
    "There's a try-except block to handle ValueError if the user doesn't input a valid number when selecting an operation."
   ]
  },
  {
   "cell_type": "code",
   "execution_count": null,
   "id": "a8b23ee8",
   "metadata": {},
   "outputs": [],
   "source": []
  }
 ],
 "metadata": {
  "kernelspec": {
   "display_name": "Python 3 (ipykernel)",
   "language": "python",
   "name": "python3"
  },
  "language_info": {
   "codemirror_mode": {
    "name": "ipython",
    "version": 3
   },
   "file_extension": ".py",
   "mimetype": "text/x-python",
   "name": "python",
   "nbconvert_exporter": "python",
   "pygments_lexer": "ipython3",
   "version": "3.11.4"
  }
 },
 "nbformat": 4,
 "nbformat_minor": 5
}
