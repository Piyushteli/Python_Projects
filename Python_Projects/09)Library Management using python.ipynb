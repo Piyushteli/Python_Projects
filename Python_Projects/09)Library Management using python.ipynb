{
 "cells": [
  {
   "cell_type": "markdown",
   "id": "e22cf6b5",
   "metadata": {},
   "source": [
    "# Library Management using python"
   ]
  },
  {
   "cell_type": "code",
   "execution_count": 1,
   "id": "a5fa88c3",
   "metadata": {},
   "outputs": [
    {
     "name": "stdout",
     "output_type": "stream",
     "text": [
      "The library has 4 books.\n",
      "The Books are\n",
      "Harrypotter1\n",
      "Harrypotter2\n",
      "Harrypotter3\n",
      "Harrypotter4\n"
     ]
    }
   ],
   "source": [
    "class Library:\n",
    "    def __init__(self):\n",
    "        self.nobooks=0\n",
    "        self.books=[]\n",
    "\n",
    "    def addbooks(self,book):\n",
    "        self.books.append(book)\n",
    "        self.nobooks=len(self.books)\n",
    "\n",
    "    def showinfo(self):\n",
    "        print(f\"The library has {self.nobooks} books.\\nThe Books are\")\n",
    "        for book in self.books:\n",
    "            print(book)\n",
    "\n",
    "obj=Library()\n",
    "obj.addbooks(\"Harrypotter1\")\n",
    "obj.addbooks(\"Harrypotter2\")\n",
    "obj.addbooks(\"Harrypotter3\")\n",
    "obj.addbooks(\"Harrypotter4\")\n",
    "obj.showinfo()"
   ]
  },
  {
   "cell_type": "markdown",
   "id": "b5435b23",
   "metadata": {},
   "source": [
    "# Here are the  steps for Library Management using python  "
   ]
  },
  {
   "cell_type": "markdown",
   "id": "917033cf",
   "metadata": {},
   "source": [
    "1)Library Class:\n",
    "\n",
    "The __init__ method initializes two attributes:\n",
    "    \n",
    "nobooks: This keeps track of the total number of books in the library.\n",
    "    \n",
    "books: This is a list where book names are stored.\n",
    "    \n",
    "2)addbooks Method:\n",
    "\n",
    "This method appends a book to the books list and updates the nobooks attribute to reflect the new number of books in the library.\n",
    "\n",
    "3)showinfo Method:\n",
    "\n",
    "It prints out the total number of books and iterates over the books list to display the book names.\n",
    "\n",
    "4)Testing the Code:\n",
    "\n",
    "You created an instance of the Library class (obj) and added books to it using addbooks().\n",
    "Finally, the showinfo() method is called to display the library's information."
   ]
  },
  {
   "cell_type": "code",
   "execution_count": null,
   "id": "d1914d1f",
   "metadata": {},
   "outputs": [],
   "source": []
  }
 ],
 "metadata": {
  "kernelspec": {
   "display_name": "Python 3 (ipykernel)",
   "language": "python",
   "name": "python3"
  },
  "language_info": {
   "codemirror_mode": {
    "name": "ipython",
    "version": 3
   },
   "file_extension": ".py",
   "mimetype": "text/x-python",
   "name": "python",
   "nbconvert_exporter": "python",
   "pygments_lexer": "ipython3",
   "version": "3.11.4"
  }
 },
 "nbformat": 4,
 "nbformat_minor": 5
}
