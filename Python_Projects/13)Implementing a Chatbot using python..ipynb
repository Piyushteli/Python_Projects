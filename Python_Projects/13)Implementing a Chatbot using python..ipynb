{
 "cells": [
  {
   "cell_type": "markdown",
   "id": "392b3d59",
   "metadata": {},
   "source": [
    "# Implementing a Chatbot using python."
   ]
  },
  {
   "cell_type": "code",
   "execution_count": null,
   "id": "310fc4ad",
   "metadata": {},
   "outputs": [
    {
     "name": "stdout",
     "output_type": "stream",
     "text": [
      "Welcome to the chatbot!\n"
     ]
    }
   ],
   "source": [
    "import random\n",
    "\n",
    "# Define a dictionary with intents and responses\n",
    "intents = {\n",
    "    'hello': ['Hi, how are you?', 'Hello! How can I assist you?'],\n",
    "    'I am fine':[\"That's good! How can I assist you?\"],\n",
    "    'how are you': ['I\\'m doing great, thanks!', 'I\\'m good, thanks for asking!'],\n",
    "    'what is your name': ['My name is ChatBot!', 'I\\'m an AI chatbot, nice to meet you!'],\n",
    "    'default': ['Sorry, I didn\\'t understand that.', 'Can you please rephrase?']\n",
    "}\n",
    "\n",
    "def chatbot(message):\n",
    "    message = message.lower()\n",
    "    for intent, responses in intents.items():\n",
    "        if intent in message:\n",
    "            return random.choice(responses)\n",
    "    return random.choice(intents['default'])\n",
    "\n",
    "def main():\n",
    "    print(\"Welcome to the chatbot!\")\n",
    "    while True:\n",
    "        message = input(\"You: \")\n",
    "        if message.lower() == 'quit':\n",
    "            break\n",
    "        response = chatbot(message)\n",
    "        print(\"ChatBot:\", response)\n",
    "\n",
    "if __name__ == \"__main__\":\n",
    "    main()\n"
   ]
  },
  {
   "cell_type": "markdown",
   "id": "aafda433",
   "metadata": {},
   "source": [
    "# Code Breakdown:\n"
   ]
  },
  {
   "cell_type": "markdown",
   "id": "9e9e2d84",
   "metadata": {},
   "source": [
    "1)Intents and Responses: A dictionary maps intents (like 'hello', 'how are you') to possible responses.\n",
    "    \n",
    "2)chatbot() Function: It checks if the user's message contains an intent and returns a random response. If no intent is matched, it returns a default response.\n",
    "    \n",
    "3)main() Function: Runs the chatbot, allowing the user to chat until they type \"quit\""
   ]
  },
  {
   "cell_type": "code",
   "execution_count": null,
   "id": "710af590",
   "metadata": {},
   "outputs": [],
   "source": []
  }
 ],
 "metadata": {
  "kernelspec": {
   "display_name": "Python 3 (ipykernel)",
   "language": "python",
   "name": "python3"
  },
  "language_info": {
   "codemirror_mode": {
    "name": "ipython",
    "version": 3
   },
   "file_extension": ".py",
   "mimetype": "text/x-python",
   "name": "python",
   "nbconvert_exporter": "python",
   "pygments_lexer": "ipython3",
   "version": "3.11.4"
  }
 },
 "nbformat": 4,
 "nbformat_minor": 5
}
