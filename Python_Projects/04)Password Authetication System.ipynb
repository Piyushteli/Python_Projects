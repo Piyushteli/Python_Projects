{
 "cells": [
  {
   "cell_type": "markdown",
   "id": "44f6c3cc",
   "metadata": {},
   "source": [
    "# \"Password Authetication System\""
   ]
  },
  {
   "cell_type": "code",
   "execution_count": 3,
   "id": "3ff3d41a",
   "metadata": {},
   "outputs": [
    {
     "name": "stdout",
     "output_type": "stream",
     "text": [
      "Enter the password: mypassword123\n",
      "Login Successfully...\n"
     ]
    }
   ],
   "source": [
    "correct_password=\"mypassword123\"\n",
    "\n",
    "def reset_password():\n",
    "    new_password=input(\"Enter the new password: \")\n",
    "    print(\"Password reset successfully....\")\n",
    "    return new_password\n",
    "\n",
    "for attempt in range(5):\n",
    "    user_password=input(\"Enter the password: \")\n",
    "\n",
    "    if user_password==correct_password:\n",
    "        print(\"Login Successfully...\")\n",
    "        break\n",
    "    else:\n",
    "        print(f\"Incorrect password.!!!you have {4-attempt} attempt left \")\n",
    "\n",
    "    if attempt==4:\n",
    "        option=input(\"Forgot password ?  (yes/No)\")\n",
    "\n",
    "        if option==\"yes\":\n",
    "            correct_password=reset_password()\n",
    "\n",
    "        for attempt in range(5):\n",
    "                user_password=input(\"Enter the password: \")\n",
    "\n",
    "                if user_password==correct_password:\n",
    "                    print(\"Login successfully\")\n",
    "                    break\n",
    "                else:\n",
    "                    print(f\"Incorrect password...you have {4-attempt} attempt left\")\n",
    "\n",
    "        if attempt==4:\n",
    "            print(\"Sorry you are locked out \")\n",
    "        else:\n",
    "            break\n"
   ]
  },
  {
   "cell_type": "markdown",
   "id": "cc306688",
   "metadata": {},
   "source": [
    "# Here are the steps for the Password Login and Reset Program:"
   ]
  },
  {
   "cell_type": "markdown",
   "id": "5b898a9a",
   "metadata": {},
   "source": [
    "Step 1: Initialize Correct Password\n",
    "- Set the correct password to a predefined value (\"mypassword123\").\n",
    "\n",
    "\n",
    "Step 2: Attempt Login\n",
    "- Prompt the user to enter their password.\n",
    "- Check if the entered password matches the correct password.\n",
    "\n",
    "\n",
    "Step 3: Handle Login Attempts\n",
    "- If the password is correct, print a success message and exit the loop.\n",
    "- If the password is incorrect, print an error message and decrement the attempt counter.\n",
    "\n",
    "\n",
    "Step 4: Handle Forgotten Password\n",
    "- If the user has exhausted all attempts (5), prompt them to reset their password.\n",
    "- If the user chooses to reset their password, call the reset_password() function.\n",
    "\n",
    "\n",
    "Step 5: Reset Password\n",
    "- Prompt the user to enter a new password.\n",
    "- Update the correct password with the new value.\n",
    "- Print a success message.\n",
    "\n",
    "\n",
    "Step 6: Attempt Login Again\n",
    "- After resetting the password, prompt the user to enter their new password.\n",
    "- Repeat steps 2-5 until the user logs in successfully or exhausts all attempts again.\n",
    "\n",
    "\n",
    "Step 7: Lockout\n",
    "- If the user exhausts all attempts again after resetting their password, print a lockout message. "
   ]
  },
  {
   "cell_type": "code",
   "execution_count": null,
   "id": "0689eabb",
   "metadata": {},
   "outputs": [],
   "source": []
  }
 ],
 "metadata": {
  "kernelspec": {
   "display_name": "Python 3 (ipykernel)",
   "language": "python",
   "name": "python3"
  },
  "language_info": {
   "codemirror_mode": {
    "name": "ipython",
    "version": 3
   },
   "file_extension": ".py",
   "mimetype": "text/x-python",
   "name": "python",
   "nbconvert_exporter": "python",
   "pygments_lexer": "ipython3",
   "version": "3.11.4"
  }
 },
 "nbformat": 4,
 "nbformat_minor": 5
}
