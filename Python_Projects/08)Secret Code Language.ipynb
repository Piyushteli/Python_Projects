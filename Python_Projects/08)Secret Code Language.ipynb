{
 "cells": [
  {
   "cell_type": "markdown",
   "id": "d92932f2",
   "metadata": {},
   "source": [
    "# \"Secret Code Language\""
   ]
  },
  {
   "cell_type": "code",
   "execution_count": 1,
   "id": "544786a6",
   "metadata": {},
   "outputs": [
    {
     "name": "stdout",
     "output_type": "stream",
     "text": [
      "Enter the message: Piyush\n",
      "1 for coding or 0 for Decoding: 1\n",
      "True\n",
      "dsfiyushPcdw\n"
     ]
    }
   ],
   "source": [
    "st=input(\"Enter the message: \")\n",
    "words=st.split(\" \")\n",
    "Coding=input(\"1 for coding or 0 for Decoding: \")\n",
    "Coding=True if Coding == \"1\" else False\n",
    "print(Coding)\n",
    "\n",
    "if Coding:\n",
    "    nwords=[]\n",
    "    for word in words:\n",
    "        if (len(word)>=3):\n",
    "            r1=\"dsf\"\n",
    "            r2=\"cdw\"\n",
    "            stnew=r1+word[1:]+word[0]+r2\n",
    "            nwords.append(stnew)\n",
    "        else:\n",
    "            nwords.append(word[::-1])\n",
    "        print(\" \".join(nwords))\n",
    "\n",
    "\n",
    "\n",
    "else:\n",
    "    nwords=[]\n",
    "    for word in words:\n",
    "        if (len(word)>=3):\n",
    "            stnew=word[3:-3]\n",
    "            stnew=stnew[-1]+stnew[:-1]\n",
    "            nwords.append(stnew)\n",
    "        else:\n",
    "            nwords.append(word[::-1])\n",
    "        print(\" \".join(nwords))"
   ]
  },
  {
   "cell_type": "markdown",
   "id": "54f28759",
   "metadata": {},
   "source": [
    "# Here are the steps for the Text Coding and Decoding Program:"
   ]
  },
  {
   "cell_type": "markdown",
   "id": "b0ea386e",
   "metadata": {},
   "source": [
    "Step 1: Get User Input\n",
    "\n",
    "- Prompt the user to enter a message.\n",
    "- Store the input message in the variable st.\n",
    "\n",
    "\n",
    "Step 2: Split Message into Words\n",
    "\n",
    "- Split the input message into individual words using the split() function.\n",
    "- Store the words in the list words.\n",
    "\n",
    "\n",
    "Step 3: Get Coding/Decoding Option\n",
    "\n",
    "- Prompt the user to choose between coding (1) and decoding (0).\n",
    "- Store the user's choice in the variable Coding.\n",
    "\n",
    "\n",
    "Step 4: Perform Coding or Decoding\n",
    "\n",
    "Coding (if Coding == True)\n",
    "\n",
    "1. Initialize an empty list nwords to store the coded words.\n",
    "2. Iterate through each word in the words list.\n",
    "3. If the word length is 3 or more, perform the following:\n",
    "    1. Append a prefix (\"dsf\") to the word.\n",
    "    2. Move the first character of the word to the end.\n",
    "    3. Append a suffix (\"cdw\") to the word.\n",
    "4. If the word length is less than 3, reverse the word.\n",
    "5. Append the coded word to the nwords list.\n",
    "6. Join the coded words into a single string and print the result.\n",
    "\n",
    "\n",
    "Decoding (if Coding == False)\n",
    "\n",
    "1. Initialize an empty list nwords to store the decoded words.\n",
    "2. Iterate through each word in the words list.\n",
    "3. If the word length is 3 or more, perform the following:\n",
    "    1. Remove the prefix (\"dsf\") and suffix (\"cdw\") from the word.\n",
    "    2. Move the last character of the word to the beginning.\n",
    "4. If the word length is less than 3, reverse the word.\n",
    "5. Append the decoded word to the nwords list.\n",
    "6. Join the decoded words into a single string and print the result."
   ]
  },
  {
   "cell_type": "code",
   "execution_count": null,
   "id": "b13ace4f",
   "metadata": {},
   "outputs": [],
   "source": []
  }
 ],
 "metadata": {
  "kernelspec": {
   "display_name": "Python 3 (ipykernel)",
   "language": "python",
   "name": "python3"
  },
  "language_info": {
   "codemirror_mode": {
    "name": "ipython",
    "version": 3
   },
   "file_extension": ".py",
   "mimetype": "text/x-python",
   "name": "python",
   "nbconvert_exporter": "python",
   "pygments_lexer": "ipython3",
   "version": "3.11.4"
  }
 },
 "nbformat": 4,
 "nbformat_minor": 5
}
