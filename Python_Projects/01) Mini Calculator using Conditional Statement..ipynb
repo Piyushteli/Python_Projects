{
 "cells": [
  {
   "cell_type": "markdown",
   "id": "440f5d01",
   "metadata": {},
   "source": [
    "# Mini Calculator using Conditional Statement."
   ]
  },
  {
   "cell_type": "code",
   "execution_count": 1,
   "id": "e06d3b7b",
   "metadata": {},
   "outputs": [
    {
     "name": "stdout",
     "output_type": "stream",
     "text": [
      "Addition:'+'\n",
      "Subtraction:'-'\n",
      "Multiplication:'*'\n",
      "Division:'/'\n",
      "Remainder:'%'\n",
      "\n",
      "Enter the First Number: 20\n",
      "Enter the Second Number: 10\n",
      "Enter the opr \"+,-,*,/,%\": +\n",
      "Addition: 30\n"
     ]
    }
   ],
   "source": [
    "print(\"Addition:'+'\\n\"\n",
    "      \"Subtraction:'-'\\n\"\n",
    "      \"Multiplication:'*'\\n\"\n",
    "      \"Division:'/'\\n\"\n",
    "      \"Remainder:'%'\\n\")\n",
    "num1=int(input('Enter the First Number: '))\n",
    "num2=int(input(\"Enter the Second Number: \"))\n",
    "opr=input(\"Enter the opr \\\"+,-,*,/,%\\\": \")\n",
    "if (opr==\"+\"):\n",
    "    print(\"Addition:\",num1+num2)\n",
    "elif (opr==\"-\"):\n",
    "    print(\"Substraction\",num1-num2)\n",
    "elif (opr==\"*\"):\n",
    "    print(\"Multiplication\",num1*num2)\n",
    "elif (opr==\"/\"):\n",
    "    print(\"Division\",num1/num2)\n",
    "elif (opr==\"%\"):\n",
    "    print(\"Remainder:\",num1%num2)\n",
    "else:\n",
    "    print(\"Invalid opr.....\")"
   ]
  },
  {
   "cell_type": "markdown",
   "id": "8bc96200",
   "metadata": {},
   "source": [
    "# Here are the steps for the  Mini Calculator :-"
   ]
  },
  {
   "cell_type": "markdown",
   "id": "70e78e5c",
   "metadata": {},
   "source": [
    "1)Display Operators: Show the available mathematical operations (+, -, *, /, %).\n",
    "    \n",
    "2)User Input: Prompt the user to enter two numbers (num1 and num2) and choose an operator.\n",
    "    \n",
    "3)Conditional Logic:\n",
    "Based on the operator entered, perform the corresponding operation using if, elif, and else statements.\n",
    "Handle division by zero to avoid errors.\n",
    "\n",
    "4)Output: Display the result of the operation.\n",
    "    \n",
    "5)Error Handling: If an invalid operator is entered, show an Invalid Operator message.\n"
   ]
  },
  {
   "cell_type": "code",
   "execution_count": null,
   "id": "f09035b1",
   "metadata": {},
   "outputs": [],
   "source": []
  }
 ],
 "metadata": {
  "kernelspec": {
   "display_name": "Python 3 (ipykernel)",
   "language": "python",
   "name": "python3"
  },
  "language_info": {
   "codemirror_mode": {
    "name": "ipython",
    "version": 3
   },
   "file_extension": ".py",
   "mimetype": "text/x-python",
   "name": "python",
   "nbconvert_exporter": "python",
   "pygments_lexer": "ipython3",
   "version": "3.11.4"
  }
 },
 "nbformat": 4,
 "nbformat_minor": 5
}
