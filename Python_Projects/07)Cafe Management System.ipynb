{
 "cells": [
  {
   "cell_type": "markdown",
   "id": "987bd0f0",
   "metadata": {},
   "source": [
    "# \"Cafe Management System using Dictionary\""
   ]
  },
  {
   "cell_type": "code",
   "execution_count": null,
   "id": "3aeb7ae2",
   "metadata": {},
   "outputs": [
    {
     "name": "stdout",
     "output_type": "stream",
     "text": [
      "!!!!...WELCOME TO PYTHON RESTAURANT...!!!!\n",
      "Pizza:RS.40\n",
      "Pasta:RS.50\n",
      "Burger:RS.60\n",
      "Salad:RS.70\n",
      "Cofee:RS.80\n"
     ]
    }
   ],
   "source": [
    "menu={\"PIZZA\":40,\"PASTA\":50,\"BURGER\":60,\"SALAD\":70,\"COFEE\":80}\n",
    "\n",
    "print(\"!!!!...WELCOME TO PYTHON RESTAURANT...!!!!\")\n",
    "print(\"Pizza:RS.40\\nPasta:RS.50\\nBurger:RS.60\\nSalad:RS.70\\nCofee:RS.80\")\n",
    "\n",
    "order_Total=0\n",
    "\n",
    "\n",
    "item_1=input(\"Enter the name of item you want to order : \")\n",
    "if item_1 in menu:\n",
    "    order_Total+=menu[item_1]\n",
    "    print(f\"Your item {item_1} has been added to your order\")\n",
    "else:\n",
    "    print(f\"Ordered item {item_1} is not available yet\")\n",
    "\n",
    "for i in range(1,10):\n",
    "    another_order=input(\"DO you want to add another item?(yes/No)\")\n",
    "    if another_order==\"yes\":\n",
    "        item_2=input(\"Enter the name of item you want to order : \")\n",
    "        if item_2 in menu:\n",
    "            order_Total+=menu[item_2]\n",
    "            print(F\"Your item {item_2} has been added to your order\")\n",
    "        else:\n",
    "            print(f\"Ordered item {item_2} is not available yet\")\n",
    "    else:\n",
    "        break\n",
    "\n",
    "\n",
    "print(f\"The total amount of items is {order_Total}\")\n"
   ]
  },
  {
   "cell_type": "code",
   "execution_count": null,
   "id": "9476db81",
   "metadata": {},
   "outputs": [],
   "source": []
  },
  {
   "cell_type": "markdown",
   "id": "c147cf48",
   "metadata": {},
   "source": [
    "# Here are the steps for the Cafe Management System:"
   ]
  },
  {
   "cell_type": "markdown",
   "id": "8fd7afee",
   "metadata": {},
   "source": [
    "Step 1: Display Menu\n",
    "\n",
    "- Print a welcome message and display the menu items with their prices.\n",
    "\n",
    "\n",
    "Step 2: Get First Order\n",
    "\n",
    "- Prompt the user to enter the name of the item they want to order.\n",
    "- Check if the item is available in the menu.\n",
    "- If available, add the item's price to the order total and print a confirmation message.\n",
    "\n",
    "\n",
    "Step 3: Ask for Additional Orders\n",
    "\n",
    "- Use a loop to ask the user if they want to add another item to their order (up to 10 additional items).\n",
    "- If the user responds with \"yes\", prompt them to enter the name of the additional item.\n",
    "\n",
    "\n",
    "Step 4: Process Additional Orders\n",
    "\n",
    "- Check if the additional item is available in the menu.\n",
    "- If available, add the item's price to the order total and print a confirmation message.\n",
    "\n",
    "\n",
    "Step 5: Display Total Order Amount\n",
    "\n",
    "- After all orders have been processed, print the total amount of the items ordered.\n",
    "\n",
    "\n",
    "Step 6: End Program\n",
    "\n",
    "- Exit the program after displaying the total order amount."
   ]
  },
  {
   "cell_type": "code",
   "execution_count": null,
   "id": "7b918509",
   "metadata": {},
   "outputs": [],
   "source": []
  }
 ],
 "metadata": {
  "kernelspec": {
   "display_name": "Python 3 (ipykernel)",
   "language": "python",
   "name": "python3"
  },
  "language_info": {
   "codemirror_mode": {
    "name": "ipython",
    "version": 3
   },
   "file_extension": ".py",
   "mimetype": "text/x-python",
   "name": "python",
   "nbconvert_exporter": "python",
   "pygments_lexer": "ipython3",
   "version": "3.11.4"
  }
 },
 "nbformat": 4,
 "nbformat_minor": 5
}
