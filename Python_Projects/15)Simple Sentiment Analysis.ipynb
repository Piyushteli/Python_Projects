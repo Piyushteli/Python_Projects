{
 "cells": [
  {
   "cell_type": "markdown",
   "id": "31ed41fe",
   "metadata": {},
   "source": [
    "# Simple Sentiment Analysis"
   ]
  },
  {
   "cell_type": "code",
   "execution_count": 1,
   "id": "77b06281",
   "metadata": {},
   "outputs": [
    {
     "name": "stdout",
     "output_type": "stream",
     "text": [
      "Enter a text: You are the good Boy\n",
      "Positive\n"
     ]
    }
   ],
   "source": [
    "def sentiment_analysis(text):\n",
    "    positive_words=[\"good\",\"great\",\"excellent\",\"awesome\",\"happy\"]\n",
    "    negative_words=[\"bad\",\"terriable\",\"awful\",\"poor\",\"sad\"]\n",
    "\n",
    "    text=text.lower()\n",
    "    words=text.split()\n",
    "\n",
    "    positive_count=sum(1 for word in words if word in positive_words)\n",
    "    negative_count=sum(1 for word in words if word in negative_words)\n",
    "\n",
    "    if positive_count>negative_count:\n",
    "        return \"Positive\"\n",
    "    elif negative_count>positive_count:\n",
    "        return \"Negative\"\n",
    "    else:\n",
    "        return \"Neutral\"\n",
    "\n",
    "text=input(\"Enter a text: \")\n",
    "print(sentiment_analysis(text))"
   ]
  },
  {
   "cell_type": "markdown",
   "id": "de6b1ad6",
   "metadata": {},
   "source": [
    "# Steps for Basic Sentiment Analysis"
   ]
  },
  {
   "cell_type": "markdown",
   "id": "2494c9ee",
   "metadata": {},
   "source": [
    "1)Define Positive and Negative Word Lists:\n",
    "\n",
    "Create two lists of words: one for positive words (e.g., good, great) and another for negative words (e.g., bad, awful).\n",
    "    \n",
    "2)Get the Input Text:\n",
    "\n",
    "Prompt the user to input a text message for analysis.\n",
    "\n",
    "3)Process the Input Text:\n",
    "\n",
    "Convert the input text to lowercase using text.lower() to make the comparison case-insensitive.\n",
    "\n",
    "Split the input text into individual words using text.split().\n",
    "\n",
    "4)Count Positive and Negative Words:\n",
    "\n",
    "Iterate through the list of words in the text and count how many match words from the positive and negative word lists:\n",
    "    \n",
    "Use a loop with a condition to check if each word in the text exists in the positive or negative word lists.\n",
    "\n",
    "5)Determine the Sentiment:\n",
    "\n",
    "Compare the counts of positive and negative words:\n",
    "    \n",
    "If there are more positive words, return \"Positive\".\n",
    "\n",
    "If there are more negative words, return \"Negative\".\n",
    "\n",
    "If the counts are the same, return \"Neutral\".\n",
    "\n",
    "6)Output the Sentiment:\n",
    "\n",
    "Print the sentiment classification result (\"Positive\", \"Negative\", or \"Neutral\").\n"
   ]
  }
 ],
 "metadata": {
  "kernelspec": {
   "display_name": "Python 3 (ipykernel)",
   "language": "python",
   "name": "python3"
  },
  "language_info": {
   "codemirror_mode": {
    "name": "ipython",
    "version": 3
   },
   "file_extension": ".py",
   "mimetype": "text/x-python",
   "name": "python",
   "nbconvert_exporter": "python",
   "pygments_lexer": "ipython3",
   "version": "3.11.4"
  }
 },
 "nbformat": 4,
 "nbformat_minor": 5
}
