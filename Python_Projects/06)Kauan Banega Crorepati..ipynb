{
 "cells": [
  {
   "cell_type": "markdown",
   "id": "d3abe387",
   "metadata": {},
   "source": [
    "# \"Kauan Banega Crorepati (KBC).\""
   ]
  },
  {
   "cell_type": "code",
   "execution_count": 12,
   "id": "141d11d5",
   "metadata": {},
   "outputs": [
    {
     "name": "stdout",
     "output_type": "stream",
     "text": [
      "\n",
      "\n",
      " question for Rs.1000\n",
      "1)Who is the prime minister of India\n",
      "a.Narendra Modi          b.Rahul Gandhi\n",
      "c.Eknath Shinde          d.Sharad pawar\n",
      "Enter your answer (1-4) or 0 to quit:\n",
      "1\n",
      "Correct answer,You have won Rs.1000\n",
      "\n",
      "\n",
      " question for Rs.2000\n",
      "2)What is the capital of Maharastra\n",
      "a.Mumbai          b.pune\n",
      "c.Banglore          d.Kolkata\n",
      "Enter your answer (1-4) or 0 to quit:\n",
      "1\n",
      "Correct answer,You have won Rs.2000\n",
      "\n",
      "\n",
      " question for Rs.3000\n",
      "3)How many states in India\n",
      "a.28          b.29\n",
      "c.36          d.38\n",
      "Enter your answer (1-4) or 0 to quit:\n",
      "1\n",
      "Correct answer,You have won Rs.3000\n",
      "\n",
      "\n",
      " question for Rs.5000\n",
      "4)Who is the prime minister of India\n",
      "a.Narendra Modi          b.Rahul Gandhi\n",
      "c.Eknath Shinde          d.Sharad pawar\n",
      "Enter your answer (1-4) or 0 to quit:\n",
      "2\n",
      "Wrong answer!\n",
      "Your take home money is 3000\n"
     ]
    }
   ],
   "source": [
    "questions=[[\"1)Who is the prime minister of India\",\"Narendra Modi\",\"Rahul Gandhi\",\"Eknath Shinde\",\"Sharad pawar\",1],[\"2)What is the capital of Maharastra\",\"Mumbai\",\"pune\",\"Banglore\",\"Kolkata\",1],[\"3)How many states in India\",28,29,36,38,1],[\"4)Who is the prime minister of India\",\"Narendra Modi\",\"Rahul Gandhi\",\"Eknath Shinde\",\"Sharad pawar\",1],[\"5)Who is the prime minister of India\",\"Narendra Modi\",\"Rahul Gandhi\",\"Eknath Shinde\",\"Sharad pawar\",1],[\"Who is the prime minister of India\",\"Narendra Modi\",\"Rahul Gandhi\",\"Eknath Shinde\",\"Sharad pawar\",1],[\"Who is the prime minister of India\",\"Narendra Modi\",\"Rahul Gandhi\",\"Eknath Shinde\",\"Sharad pawar\",1],[\"Who is the prime minister of India\",\"Narendra Modi\",\"Rahul Gandhi\",\"Eknath Shinde\",\"Sharad pawar\",1]]\n",
    "level=[1000,2000,3000,5000,10000,20000,40000,80000,160000,320000]\n",
    "\n",
    "money=0\n",
    "for i in range(0,len(questions)):\n",
    "    question=questions[i]\n",
    "    print(f\"\\n\\n question for Rs.{level[i]}\")\n",
    "    print(f\"{question[0]}\")\n",
    "    print(f\"a.{question[1]}          b.{question[2]}\")\n",
    "    print(f\"c.{question[3]}          d.{question[4]}\")\n",
    "\n",
    "    reply=int(input(\"Enter your answer (1-4) or 0 to quit:\\n\"))\n",
    "    if reply==0:\n",
    "        money=level[i-1]\n",
    "        break\n",
    "    if reply==1:\n",
    "        print(f\"Correct answer,You have won Rs.{level[i]}\")\n",
    "\n",
    "        if i==4:\n",
    "            money=10000\n",
    "        elif i==9:\n",
    "            money=320000\n",
    "        elif i==12:\n",
    "            money=10000000\n",
    "    else:\n",
    "        print(\"Wrong answer!\")\n",
    "        break\n",
    "\n",
    "print(f\"Your take home money is {level[i-1]}\")"
   ]
  },
  {
   "cell_type": "markdown",
   "id": "73de0418",
   "metadata": {},
   "source": [
    "# Here are the steps for the Quiz Game Algorithm"
   ]
  },
  {
   "cell_type": "markdown",
   "id": "a1bc47f0",
   "metadata": {},
   "source": [
    "# Step 1: Initialize Game Data\n",
    "- Load questions, answer options, and corresponding levels with monetary values.\n",
    "\n",
    "\n",
    "# Step 2: Display Question and Answer Options\n",
    "- Display the current question, answer options (A, B, C, D), and the monetary value for the correct answer.\n",
    "\n",
    "\n",
    "# Step 3: Get User Input\n",
    "- Prompt the user to enter their answer choice (1-4) or 0 to quit the game.\n",
    "\n",
    "\n",
    "# Step 4: Verify User Answer\n",
    "- Check if the user's answer matches the correct answer.\n",
    "- If correct, award the user the monetary value for that level.\n",
    "\n",
    "\n",
    "# Step 5: Update Game State\n",
    "- Increment the question counter.\n",
    "- Update the user's winnings.\n",
    "\n",
    "\n",
    "# Step 6: Check Game Termination\n",
    "- If the user quits (inputs 0) or answers incorrectly, terminate the game.\n",
    "\n",
    "\n",
    "# Step 7: Display Final Winnings\n",
    "- Display the user's accumulated winnings.\n",
    "\n",
    "\n",
    "# Step 8: End Game\n",
    "- Exit the game loop."
   ]
  },
  {
   "cell_type": "code",
   "execution_count": null,
   "id": "d71aab34",
   "metadata": {},
   "outputs": [],
   "source": []
  }
 ],
 "metadata": {
  "kernelspec": {
   "display_name": "Python 3 (ipykernel)",
   "language": "python",
   "name": "python3"
  },
  "language_info": {
   "codemirror_mode": {
    "name": "ipython",
    "version": 3
   },
   "file_extension": ".py",
   "mimetype": "text/x-python",
   "name": "python",
   "nbconvert_exporter": "python",
   "pygments_lexer": "ipython3",
   "version": "3.11.4"
  }
 },
 "nbformat": 4,
 "nbformat_minor": 5
}
